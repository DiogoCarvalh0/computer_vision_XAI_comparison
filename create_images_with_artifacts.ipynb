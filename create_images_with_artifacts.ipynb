{
 "cells": [
  {
   "cell_type": "code",
   "execution_count": 1,
   "metadata": {},
   "outputs": [],
   "source": [
    "import os\n",
    "from tqdm import tqdm\n",
    "\n",
    "import numpy as np\n",
    "\n",
    "from PIL import Image, ImageDraw\n",
    "from src.dataset import DogVSCatObjectDetectionDataset"
   ]
  },
  {
   "cell_type": "code",
   "execution_count": 2,
   "metadata": {},
   "outputs": [],
   "source": [
    "DATA_PATH = \"./data/\"\n",
    "IMAGES_FOLDER = \"images/\"\n",
    "ANNOTATIONS_FOLDER = \"annotations/\"\n",
    "\n",
    "LABELS_TO_IDX = {\"background\": 0, \"cat\": 1, \"dog\": 2}\n",
    "NUMBER_CLASSES = len(LABELS_TO_IDX)"
   ]
  },
  {
   "cell_type": "code",
   "execution_count": 3,
   "metadata": {},
   "outputs": [],
   "source": [
    "train_dataset = DogVSCatObjectDetectionDataset(\n",
    "    images_path=os.path.join(DATA_PATH, \"train\", IMAGES_FOLDER),\n",
    "    annotations_path=os.path.join(DATA_PATH, \"train\", ANNOTATIONS_FOLDER),\n",
    "    class_to_idx_mapping=LABELS_TO_IDX,\n",
    "    transform=None,\n",
    ")\n",
    "\n",
    "test_dataset = DogVSCatObjectDetectionDataset(\n",
    "    images_path=os.path.join(DATA_PATH, \"test\", IMAGES_FOLDER),\n",
    "    annotations_path=os.path.join(DATA_PATH, \"test\", ANNOTATIONS_FOLDER),\n",
    "    class_to_idx_mapping=LABELS_TO_IDX,\n",
    "    transform=None,\n",
    ")"
   ]
  },
  {
   "cell_type": "code",
   "execution_count": 5,
   "metadata": {},
   "outputs": [
    {
     "name": "stderr",
     "output_type": "stream",
     "text": [
      "100%|██████████| 2948/2948 [02:49<00:00, 17.43it/s]\n"
     ]
    }
   ],
   "source": [
    "for i in tqdm(range(len(train_dataset))):\n",
    "    img, target = train_dataset[i]\n",
    "    basename = train_dataset.get_file_name(i)\n",
    "    # train_artifacts\n",
    "    \n",
    "    box = target['boxes'][0]\n",
    "\n",
    "    top_left = box[0:2]\n",
    "    bottom_right = box[2:4]\n",
    "    \n",
    "    with img as image:\n",
    "        draw = ImageDraw.Draw(image)\n",
    "        \n",
    "        color = None\n",
    "        \n",
    "        if target['labels'][0] == 1: # Cat\n",
    "            color = 'blue'\n",
    "        elif target['labels'][0] == 2: # Dog\n",
    "            color = 'red'\n",
    "            \n",
    "        draw.ellipse(np.hstack((top_left, top_left + 20)), fill=color, outline=color)\n",
    "        draw.ellipse(np.hstack((bottom_right-20, bottom_right)), fill=color, outline=color)\n",
    "        \n",
    "        image.save(f'./data/train_artifacts/images/{basename}.png')"
   ]
  },
  {
   "cell_type": "code",
   "execution_count": 6,
   "metadata": {},
   "outputs": [
    {
     "name": "stderr",
     "output_type": "stream",
     "text": [
      "100%|██████████| 738/738 [00:43<00:00, 16.98it/s]\n"
     ]
    }
   ],
   "source": [
    "for i in tqdm(range(len(test_dataset))):\n",
    "    img, target = test_dataset[i]\n",
    "    basename = test_dataset.get_file_name(i)\n",
    "    # train_artifacts\n",
    "    \n",
    "    box = target['boxes'][0]\n",
    "\n",
    "    top_left = box[0:2]\n",
    "    bottom_right = box[2:4]\n",
    "    \n",
    "    with img as image:\n",
    "        draw = ImageDraw.Draw(image)\n",
    "        \n",
    "        color = None\n",
    "        \n",
    "        if target['labels'][0] == 1: # Cat\n",
    "            color = 'blue'\n",
    "        elif target['labels'][0] == 2: # Dog\n",
    "            color = 'red'\n",
    "            \n",
    "        draw.ellipse(np.hstack((top_left, top_left + 20)), fill=color, outline=color)\n",
    "        draw.ellipse(np.hstack((bottom_right-20, bottom_right)), fill=color, outline=color)\n",
    "        \n",
    "        image.save(f'./data/test_artifacts/images/{basename}.png')"
   ]
  }
 ],
 "metadata": {
  "kernelspec": {
   "display_name": "tese_env",
   "language": "python",
   "name": "python3"
  },
  "language_info": {
   "codemirror_mode": {
    "name": "ipython",
    "version": 3
   },
   "file_extension": ".py",
   "mimetype": "text/x-python",
   "name": "python",
   "nbconvert_exporter": "python",
   "pygments_lexer": "ipython3",
   "version": "3.9.16"
  },
  "orig_nbformat": 4
 },
 "nbformat": 4,
 "nbformat_minor": 2
}
